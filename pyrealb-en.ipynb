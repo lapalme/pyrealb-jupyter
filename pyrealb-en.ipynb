{
 "cells": [
  {
   "attachments": {},
   "cell_type": "markdown",
   "metadata": {},
   "source": [
    "# Experimenting with `pyrealb`\n",
    "\n",
    "This Jupyter notebook shows a few live examples of text realization with **pyrealb**.  \n",
    "\n",
    "It can also be used directly in your browser (through Binder) with [this link](https://mybinder.org/v2/gh/lapalme/pyrealb-jupyter/64a7272b3a15404274b1082825af290b4bfee63e?urlpath=lab%2Ftree%2Fpyrealb-en.ipynb). **On opening, select the menu item `Run/Run all cells`**\n",
    "\n",
    "**pyrealb** is a system for realizing English or French Sentences from a specification given as a Python structure built with constructor and function calls.\n",
    "\n",
    "The names of constructors have been chosen to be similar to the usual conventions in constituent grammars: terminals embedded in phrases each of them can be modified by options specified using object property functions. It is also possible to use a dependency syntax notation to build sentences.\n",
    "\n",
    "**pyrealb** manages automatically conjugation, declensions and most agreements between constituents. One important feature is the fact that once an affirmative sentence has been defined, many variants (e.g. negative, passive, interrogative, etc.) can be obtained by just adding specific options. Not all options are described in this document, the complete list can be found in the [**pyrealb** documentation](docs/documentation.html).\n",
    "\n",
    "This *Jupyter* notebook briefly introduces **pyrealb** syntax with a few simple examples and also shows more challenging ones.  You can modify the examples and immediately see the effects on the realization. Once an expression is modified, it can be executed with (shift-return) or by clicking one of the appropriate buttoons.\n",
    "\n",
    "*Nota bene*: When **pyrealb** detects a specification error which often results in realizing a word between double square brackets `[[...]]`, it also writes a warning on the console which is displayed before the result. \n",
    "\n",
    "First import the package and indicate that English text will be realized."
   ]
  },
  {
   "cell_type": "code",
   "execution_count": 1,
   "metadata": {},
   "outputs": [],
   "source": [
    "from pyrealb import *\n",
    "loadEn()"
   ]
  },
  {
   "attachments": {},
   "cell_type": "markdown",
   "metadata": {},
   "source": [
    "## Creation and realization of a first word\n",
    "\n",
    "We call a constructor to create a Python structure, for example to create a noun."
   ]
  },
  {
   "cell_type": "code",
   "execution_count": 2,
   "metadata": {},
   "outputs": [
    {
     "data": {
      "text/plain": [
       "<pyrealb.Terminal.N at 0x10d064b80>"
      ]
     },
     "execution_count": 2,
     "metadata": {},
     "output_type": "execute_result"
    }
   ],
   "source": [
    "N('cat')"
   ]
  },
  {
   "attachments": {},
   "cell_type": "markdown",
   "metadata": {},
   "source": [
    "This call shows that a Python object of type `Terminal` has been created. As we will show, this object can be saved in a variable, used and modified like any Python object. Its realization is obtained by asking for its string value with `str(..)` (`print(..)` does this implicitely) or by calling the object function property `.realize()`.\n",
    "\n",
    "To simplify notation in the rest of this notebook, we define a function to realize each argument and create a string joining the realizations separated by a separator (comma, by default)."
   ]
  },
  {
   "cell_type": "code",
   "execution_count": 3,
   "metadata": {},
   "outputs": [],
   "source": [
    "def realize(*exps,sep=', '):\n",
    "    return sep.join(exp.realize() for exp in exps)"
   ]
  },
  {
   "attachments": {},
   "cell_type": "markdown",
   "metadata": {},
   "source": [
    "It can be called as follows:"
   ]
  },
  {
   "cell_type": "code",
   "execution_count": 4,
   "metadata": {},
   "outputs": [
    {
     "data": {
      "text/plain": [
       "'cat, dog, butterfly'"
      ]
     },
     "execution_count": 4,
     "metadata": {},
     "output_type": "execute_result"
    }
   ],
   "source": [
    "realize(N('cat'),N(\"dog\"),N(\"butterfly\"))"
   ]
  },
  {
   "attachments": {},
   "cell_type": "markdown",
   "metadata": {},
   "source": [
    "## Terminal creation\n",
    "The constructor is called by giving the base form as parameter:\n",
    "* singular for an article or a noun"
   ]
  },
  {
   "cell_type": "code",
   "execution_count": 5,
   "metadata": {},
   "outputs": [
    {
     "data": {
      "text/plain": [
       "'a, cat'"
      ]
     },
     "execution_count": 5,
     "metadata": {},
     "output_type": "execute_result"
    }
   ],
   "source": [
    "realize(D(\"a\"),\n",
    "        N(\"cat\"))"
   ]
  },
  {
   "attachments": {},
   "cell_type": "markdown",
   "metadata": {},
   "source": [
    "* infinitive for a verb which is conjugated to the present tense at the 3rd person singular"
   ]
  },
  {
   "cell_type": "code",
   "execution_count": 6,
   "metadata": {},
   "outputs": [
    {
     "data": {
      "text/plain": [
       "'loves'"
      ]
     },
     "execution_count": 6,
     "metadata": {},
     "output_type": "execute_result"
    }
   ],
   "source": [
    "realize(V(\"love\"))"
   ]
  },
  {
   "attachments": {},
   "cell_type": "markdown",
   "metadata": {},
   "source": [
    "* first person singular for a pronoun which is declined by default at neutral 3rd person singular"
   ]
  },
  {
   "cell_type": "code",
   "execution_count": 7,
   "metadata": {},
   "outputs": [
    {
     "data": {
      "text/plain": [
       "'it'"
      ]
     },
     "execution_count": 7,
     "metadata": {},
     "output_type": "execute_result"
    }
   ],
   "source": [
    "realize(Pro(\"I\"))"
   ]
  },
  {
   "attachments": {},
   "cell_type": "markdown",
   "metadata": {},
   "source": [
    "* adjective, adverb, preposition, conjunction and *canned text*, with the base form which is not declined in English"
   ]
  },
  {
   "cell_type": "code",
   "execution_count": 8,
   "metadata": {},
   "outputs": [
    {
     "data": {
      "text/plain": [
       "'good, so, of, or, Wow!!'"
      ]
     },
     "execution_count": 8,
     "metadata": {},
     "output_type": "execute_result"
    }
   ],
   "source": [
    "realize(A(\"good\"),\n",
    "        Adv(\"so\"),\n",
    "        P(\"of\"),\n",
    "        C(\"or\"),\n",
    "        Q(\"Wow!!\"))"
   ]
  },
  {
   "attachments": {},
   "cell_type": "markdown",
   "metadata": {},
   "source": [
    "* date and time specified with the usual JavaScript syntax. When called without argument, it returns the current date and time. We will see later how to display specific fields of a date."
   ]
  },
  {
   "cell_type": "code",
   "execution_count": 9,
   "metadata": {},
   "outputs": [
    {
     "data": {
      "text/plain": [
       "'on Friday, December 25, 2020 at 0:00:00 a.m., on Monday, January 30, 2023 at 3:29:38 p.m.'"
      ]
     },
     "execution_count": 9,
     "metadata": {},
     "output_type": "execute_result"
    }
   ],
   "source": [
    "realize(DT(\"2020-12-25\"),\n",
    "        DT())"
   ]
  },
  {
   "attachments": {},
   "cell_type": "markdown",
   "metadata": {},
   "source": [
    "* number corresponding the numeric value given as parameter"
   ]
  },
  {
   "cell_type": "code",
   "execution_count": 10,
   "metadata": {},
   "outputs": [
    {
     "data": {
      "text/plain": [
       "'123, 45,678'"
      ]
     },
     "execution_count": 10,
     "metadata": {},
     "output_type": "execute_result"
    }
   ],
   "source": [
    "realize(NO(123),\n",
    "        NO(45678))"
   ]
  },
  {
   "attachments": {},
   "cell_type": "markdown",
   "metadata": {},
   "source": [
    "### Terminal modifications such as declension and conjugation with options, i.e. [functions that are object properties of the terminal](https://github.com/lapalme/pyrealb/blob/main/docs/documentation.html):\n",
    "* number: singular `.n(\"s\")`, plural `.n(\"p\")`\n",
    "* gender: masculine `.g(\"m\")`, feminine `.g(\"f\")`, neutral `.g(\"n\")`"
   ]
  },
  {
   "cell_type": "code",
   "execution_count": 11,
   "metadata": {},
   "outputs": [
    {
     "data": {
      "text/plain": [
       "', cats, it'"
      ]
     },
     "execution_count": 11,
     "metadata": {},
     "output_type": "execute_result"
    }
   ],
   "source": [
    "realize(D(\"a\").n(\"p\"),  # empty string when plural...\n",
    "        N(\"cat\").n(\"p\"),\n",
    "        Pro(\"I\").g(\"n\"))"
   ]
  },
  {
   "attachments": {},
   "cell_type": "markdown",
   "metadata": {},
   "source": [
    "* tense: simple past `.t(\"ps\")`, future `.t(\"f\")`, ...\n",
    "* person : first `.pe(1)`, second `.pe(2)` or third `.pe(3)` to be combined with number"
   ]
  },
  {
   "cell_type": "code",
   "execution_count": 12,
   "metadata": {},
   "outputs": [
    {
     "data": {
      "text/plain": [
       "'they, ate, it, will finish'"
      ]
     },
     "execution_count": 12,
     "metadata": {},
     "output_type": "execute_result"
    }
   ],
   "source": [
    "realize(Pro(\"I\").pe(3).n(\"p\"),\n",
    "        V(\"eat\").t(\"ps\").pe(3).n(\"p\"),\n",
    "        Pro(\"me\").pe(3),\n",
    "        V(\"finish\").t(\"f\").pe(1).n(\"p\"))"
   ]
  },
  {
   "attachments": {},
   "cell_type": "markdown",
   "metadata": {},
   "source": [
    "* date formatting"
   ]
  },
  {
   "cell_type": "code",
   "execution_count": 13,
   "metadata": {},
   "outputs": [
    {
     "data": {
      "text/plain": [
       "'on Monday, January 30, 2023; Friday 12/25/2020'"
      ]
     },
     "execution_count": 13,
     "metadata": {},
     "output_type": "execute_result"
    }
   ],
   "source": [
    "realize(DT().dOpt({\"hour\":False,\"minute\":False,\"second\":False,\"nat\":true}),\n",
    "        DT(\"2020-12-25\").dOpt({\"hour\":False,\"minute\":False,\"second\":False,\"nat\":False}),\n",
    "        sep=\"; \")"
   ]
  },
  {
   "attachments": {},
   "cell_type": "markdown",
   "metadata": {},
   "source": [
    "* number formatting"
   ]
  },
  {
   "cell_type": "code",
   "execution_count": 14,
   "metadata": {},
   "outputs": [
    {
     "data": {
      "text/plain": [
       "'one hundred twenty-three, fifteenth, 3.1416'"
      ]
     },
     "execution_count": 14,
     "metadata": {},
     "output_type": "execute_result"
    }
   ],
   "source": [
    "realize(NO(123).dOpt({\"nat\":True}),\n",
    "        NO(15).dOpt({\"ord\":True}),\n",
    "        NO(3.141592).dOpt({\"mprecision\":4}))"
   ]
  },
  {
   "attachments": {},
   "cell_type": "markdown",
   "metadata": {},
   "source": [
    "* HTML output"
   ]
  },
  {
   "cell_type": "code",
   "execution_count": 15,
   "metadata": {},
   "outputs": [
    {
     "data": {
      "text/plain": [
       "'<b>a</b>, <i>grey</i>, <a href=\"https://en.wikipedia.org/wiki/Cat\" target=\"_blank\">cat</a>'"
      ]
     },
     "execution_count": 15,
     "metadata": {},
     "output_type": "execute_result"
    }
   ],
   "source": [
    "realize(D('a').tag(\"b\"),\n",
    "               A(\"grey\").tag(\"i\"),\n",
    "               N(\"cat\").tag(\"a\",\n",
    "                            {\"href\":\"https://en.wikipedia.org/wiki/Cat\",\n",
    "                             \"target\":\"_blank\"}))"
   ]
  },
  {
   "attachments": {},
   "cell_type": "markdown",
   "metadata": {},
   "source": [
    "## Phrase creation\n",
    "Phrases are created by embedding calls to constructors of terminals or of other phrases. Examples of such phrases are:\n",
    "* *Noun Phrase* (`NP`) in which the number and gender of the first noun or pronoun is propagated to the other components of the phrase; adjectives are always realized before the noun.\n",
    "* *Verb Phrase* (`VP`) which often embeds a noun phrase as a direct object\n",
    "* *Sentence* (`S`) which combines phrases. The first noun phrase in a `S` is taken as the subject of the sentence with which the verb of the `VP` will agree. By default, `S` at the top-level capitalizes the first letter and adds a full stop at the end.\n",
    "\n",
    "We now create two `NP`s, a `VP` and a `S`."
   ]
  },
  {
   "cell_type": "code",
   "execution_count": 16,
   "metadata": {},
   "outputs": [],
   "source": [
    "np1 = NP(D(\"the\"),\n",
    "         N(\"cat\").n(\"p\"),\n",
    "         A(\"small\"),\n",
    "         A(\"black\"))"
   ]
  },
  {
   "cell_type": "code",
   "execution_count": 17,
   "metadata": {},
   "outputs": [],
   "source": [
    "np2 = NP(D(\"a\"), \n",
    "         N(\"mouse\").n(\"p\"))"
   ]
  },
  {
   "cell_type": "code",
   "execution_count": 18,
   "metadata": {},
   "outputs": [],
   "source": [
    "s = S(np1,\n",
    "      VP(V(\"eat\").t(\"f\"), \n",
    "          np2))"
   ]
  },
  {
   "attachments": {},
   "cell_type": "markdown",
   "metadata": {},
   "source": [
    "Now realize them:"
   ]
  },
  {
   "cell_type": "code",
   "execution_count": 19,
   "metadata": {},
   "outputs": [
    {
     "data": {
      "text/plain": [
       "'the small black cats, mice, The small black cats will eat mice. '"
      ]
     },
     "execution_count": 19,
     "metadata": {},
     "output_type": "execute_result"
    }
   ],
   "source": [
    "realize(np1,np2,s)"
   ]
  },
  {
   "attachments": {},
   "cell_type": "markdown",
   "metadata": {},
   "source": [
    "### Phrase modifications using options, i.e. [functions that are object properties of a phrase](https://github.com/lapalme/pyrealb/blob/main/docs/documentation.html)"
   ]
  },
  {
   "cell_type": "code",
   "execution_count": 20,
   "metadata": {},
   "outputs": [
    {
     "data": {
      "text/plain": [
       "'Mice will not be eaten by the small black cats. '"
      ]
     },
     "execution_count": 20,
     "metadata": {},
     "output_type": "execute_result"
    }
   ],
   "source": [
    "realize(S(np1,\n",
    "          VP(V(\"eat\").t(\"f\"), \n",
    "             np2)).typ({\"neg\":True,\"pas\":True}))"
   ]
  },
  {
   "attachments": {},
   "cell_type": "markdown",
   "metadata": {},
   "source": [
    "As options modify the internal structure of a phrase when it is realized, it is preferable to work on a **_copy_** of the original phrase if this phrase is expected to be reused. \n",
    "\n",
    "**This _problem_ is potentially worse in the context of this _Jupyter Notebook_ because a cell can be reevaluated many times modifying the original object at each realization.**\n",
    "\n",
    "A simple way of creating a copy is to define a function that will return a new expression at each call. For our previous `np1`, we can define the following function allowing to specify the number as parameter, singular when not specified. By convention, we suffix the name with `_f` to remind that it is a function."
   ]
  },
  {
   "cell_type": "code",
   "execution_count": 21,
   "metadata": {},
   "outputs": [],
   "source": [
    "def np1_f(n=\"s\"):\n",
    "  return NP(D(\"the\"),\n",
    "            N(\"cat\").n(n),\n",
    "            A(\"small\"),\n",
    "            A(\"black\"))"
   ]
  },
  {
   "cell_type": "markdown",
   "metadata": {},
   "source": []
  },
  {
   "attachments": {},
   "cell_type": "markdown",
   "metadata": {},
   "source": [
    "This function can be called multiple times as follows:"
   ]
  },
  {
   "cell_type": "code",
   "execution_count": 22,
   "metadata": {},
   "outputs": [
    {
     "data": {
      "text/plain": [
       "'the small black cats, the small black cat'"
      ]
     },
     "execution_count": 22,
     "metadata": {},
     "output_type": "execute_result"
    }
   ],
   "source": [
    "realize(np1_f(\"p\"),np1_f())"
   ]
  },
  {
   "attachments": {},
   "cell_type": "markdown",
   "metadata": {},
   "source": [
    "As these functions most often only return an expression, we can simplify the notation using a _lambda_. We can define functions for our previous phrases and realize two new sentences:"
   ]
  },
  {
   "cell_type": "code",
   "execution_count": 23,
   "metadata": {},
   "outputs": [
    {
     "data": {
      "text/plain": [
       "'The small black cats eat cheeses. , A cheese is not eaten by the small black cat. '"
      ]
     },
     "execution_count": 23,
     "metadata": {},
     "output_type": "execute_result"
    }
   ],
   "source": [
    "np2_f = lambda n=\"s\": NP(D(\"a\"),N(\"cheese\").n(n))\n",
    "s_f = lambda n=\"s\" : S(np1_f(n),VP(V(\"eat\"),np2_f(n)))\n",
    "realize(s_f(\"p\"),s_f().typ({\"neg\":True,\"pas\":True}))"
   ]
  },
  {
   "attachments": {},
   "cell_type": "markdown",
   "metadata": {},
   "source": [
    "To simplify the notation for showing the sentence modifications, we define the following function to realize sentence function with optional modifications."
   ]
  },
  {
   "cell_type": "code",
   "execution_count": 24,
   "metadata": {},
   "outputs": [],
   "source": [
    "def show(ph_f,mod_typ={}):\n",
    "    return ph_f().typ(mod_typ).realize()"
   ]
  },
  {
   "attachments": {},
   "cell_type": "markdown",
   "metadata": {},
   "source": [
    "### Original sentence:\n",
    "\n",
    "* its realization"
   ]
  },
  {
   "cell_type": "code",
   "execution_count": 25,
   "metadata": {},
   "outputs": [
    {
     "data": {
      "text/plain": [
       "'The small black cat eats a cheese. '"
      ]
     },
     "execution_count": 25,
     "metadata": {},
     "output_type": "execute_result"
    }
   ],
   "source": [
    "show(s_f)"
   ]
  },
  {
   "attachments": {},
   "cell_type": "markdown",
   "metadata": {},
   "source": [
    "* its negation"
   ]
  },
  {
   "cell_type": "markdown",
   "metadata": {},
   "source": []
  },
  {
   "cell_type": "code",
   "execution_count": 26,
   "metadata": {},
   "outputs": [
    {
     "data": {
      "text/plain": [
       "'The small black cat does not eat a cheese. '"
      ]
     },
     "execution_count": 26,
     "metadata": {},
     "output_type": "execute_result"
    }
   ],
   "source": [
    "show(s_f,{\"neg\":True})"
   ]
  },
  {
   "attachments": {},
   "cell_type": "markdown",
   "metadata": {},
   "source": [
    "* its negation in passive mode"
   ]
  },
  {
   "cell_type": "code",
   "execution_count": 27,
   "metadata": {},
   "outputs": [
    {
     "data": {
      "text/plain": [
       "'A cheese is not eaten by the small black cat. '"
      ]
     },
     "execution_count": 27,
     "metadata": {},
     "output_type": "execute_result"
    }
   ],
   "source": [
    "show(s_f,{\"neg\":True, \"pas\":True})"
   ]
  },
  {
   "attachments": {},
   "cell_type": "markdown",
   "metadata": {},
   "source": [
    "* question about the subject of the verb"
   ]
  },
  {
   "cell_type": "code",
   "execution_count": 28,
   "metadata": {},
   "outputs": [
    {
     "data": {
      "text/plain": [
       "'Who eats a cheese? '"
      ]
     },
     "execution_count": 28,
     "metadata": {},
     "output_type": "execute_result"
    }
   ],
   "source": [
    "show(s_f,{\"int\":\"wos\"})"
   ]
  },
  {
   "attachments": {},
   "cell_type": "markdown",
   "metadata": {},
   "source": [
    "* question about the object of the verb"
   ]
  },
  {
   "cell_type": "code",
   "execution_count": 29,
   "metadata": {},
   "outputs": [
    {
     "data": {
      "text/plain": [
       "'What does the small black cat eat? '"
      ]
     },
     "execution_count": 29,
     "metadata": {},
     "output_type": "execute_result"
    }
   ],
   "source": [
    "show(s_f,{\"int\":\"wad\"})"
   ]
  },
  {
   "attachments": {},
   "cell_type": "markdown",
   "metadata": {},
   "source": [
    "### Variant with a subordinate phrase\n",
    "\n",
    "We add a subordinate phrase as the last constituent of `np2` which is cloned which prevents the modification of the original `np2`. The verb of the subordinate is set to the perfect tense, the progressive mode and with a *necessity* modality"
   ]
  },
  {
   "cell_type": "code",
   "execution_count": 30,
   "metadata": {},
   "outputs": [],
   "source": [
    "sp_f = lambda : S(np2_f().add(SP(Pro(\"that\"),\n",
    "                                 np1_f(),\n",
    "                                 VP(V(\"eat\").t(\"ps\"))).typ({\"perf\":True,\"prog\":True,\"mod\":\"nece\"})),\n",
    "                 VP(V(\"be\"),\n",
    "                    A(\"white\")).t(\"ps\"))"
   ]
  },
  {
   "attachments": {},
   "cell_type": "markdown",
   "metadata": {},
   "source": [
    "* its realization"
   ]
  },
  {
   "cell_type": "code",
   "execution_count": 31,
   "metadata": {},
   "outputs": [
    {
     "data": {
      "text/plain": [
       "'A cheese that the small black cat should have been eating was white. '"
      ]
     },
     "execution_count": 31,
     "metadata": {},
     "output_type": "execute_result"
    }
   ],
   "source": [
    "show(sp_f)"
   ]
  },
  {
   "attachments": {},
   "cell_type": "markdown",
   "metadata": {},
   "source": [
    "* its negation"
   ]
  },
  {
   "cell_type": "code",
   "execution_count": 32,
   "metadata": {},
   "outputs": [
    {
     "data": {
      "text/plain": [
       "'A cheese that the small black cat should have been eating was not white. '"
      ]
     },
     "execution_count": 32,
     "metadata": {},
     "output_type": "execute_result"
    }
   ],
   "source": [
    "show(sp_f,{\"neg\":true})"
   ]
  },
  {
   "attachments": {},
   "cell_type": "markdown",
   "metadata": {},
   "source": [
    "### Coordinate phrase\n",
    "\n",
    "`CP` realizes a list of phrases in which the elements are separated with a comma except for the last two that are separated by a conjunction specified within the phrase (often at the start)"
   ]
  },
  {
   "cell_type": "code",
   "execution_count": 33,
   "metadata": {},
   "outputs": [],
   "source": [
    "cp_f = lambda: CP(C(\"and\"),\n",
    "                  NP(D(\"the\"),N(\"cat\")),\n",
    "                  NP(D(\"the\"),N(\"mouse\")),\n",
    "                  NP(D(\"a\"),N(\"rabbit\")))  "
   ]
  },
  {
   "attachments": {},
   "cell_type": "markdown",
   "metadata": {},
   "source": [
    "* its use within a sentence"
   ]
  },
  {
   "cell_type": "code",
   "execution_count": 34,
   "metadata": {},
   "outputs": [
    {
     "data": {
      "text/plain": [
       "'The cat, the mouse and a rabbit came. '"
      ]
     },
     "execution_count": 34,
     "metadata": {},
     "output_type": "execute_result"
    }
   ],
   "source": [
    "show(lambda:S(cp_f(), \n",
    "              VP(V(\"come\").t(\"ps\"))))"
   ]
  },
  {
   "attachments": {},
   "cell_type": "markdown",
   "metadata": {},
   "source": [
    "* new elements can be added to it, here a new `NP` with a number spelled out"
   ]
  },
  {
   "cell_type": "code",
   "execution_count": 35,
   "metadata": {},
   "outputs": [
    {
     "data": {
      "text/plain": [
       "'The cat, the mouse, a rabbit and twenty-five dogs came. '"
      ]
     },
     "execution_count": 35,
     "metadata": {},
     "output_type": "execute_result"
    }
   ],
   "source": [
    "show(lambda:S(cp_f().add(NP(NO(25).nat(true),N(\"dog\"))),\n",
    "              VP(V(\"come\").t(\"ps\"))))"
   ]
  },
  {
   "attachments": {},
   "cell_type": "markdown",
   "metadata": {},
   "source": [
    "### Pronominalization\n",
    "\n",
    "To ease reading, it is often interesting to replace a noun phrase by a pronoun.\n",
    "Given the two following noun phrases:"
   ]
  },
  {
   "cell_type": "code",
   "execution_count": 36,
   "metadata": {},
   "outputs": [],
   "source": [
    "man_f = lambda n=\"s\": NP(D(\"the\"), N(\"man\").n(n),A(\"pretty\"))\n",
    "woman_f = lambda n=\"s\": NP(D(\"a\"), N(\"woman\").n(n),A(\"intelligent\"))"
   ]
  },
  {
   "attachments": {},
   "cell_type": "markdown",
   "metadata": {},
   "source": [
    "We realize an initial sentence"
   ]
  },
  {
   "cell_type": "code",
   "execution_count": 37,
   "metadata": {},
   "outputs": [
    {
     "data": {
      "text/plain": [
       "'The pretty men love intelligent women. '"
      ]
     },
     "execution_count": 37,
     "metadata": {},
     "output_type": "execute_result"
    }
   ],
   "source": [
    "show(lambda:S(man_f(\"p\"),\n",
    "              VP(V(\"love\"),\n",
    "                 woman_f(\"p\"))))"
   ]
  },
  {
   "attachments": {},
   "cell_type": "markdown",
   "metadata": {},
   "source": [
    "We pronominalize the subject."
   ]
  },
  {
   "cell_type": "code",
   "execution_count": 38,
   "metadata": {},
   "outputs": [
    {
     "data": {
      "text/plain": [
       "'He loves an intelligent woman. '"
      ]
     },
     "execution_count": 38,
     "metadata": {},
     "output_type": "execute_result"
    }
   ],
   "source": [
    "show(lambda:S(man_f().pro(),\n",
    "              VP(V(\"love\"),\n",
    "                 woman_f())))"
   ]
  },
  {
   "attachments": {},
   "cell_type": "markdown",
   "metadata": {},
   "source": [
    "e now pronominalize the object and see that the appropriate gender has been used"
   ]
  },
  {
   "cell_type": "code",
   "execution_count": 39,
   "metadata": {},
   "outputs": [
    {
     "data": {
      "text/plain": [
       "'The pretty man loves her. '"
      ]
     },
     "execution_count": 39,
     "metadata": {},
     "output_type": "execute_result"
    }
   ],
   "source": [
    "show(lambda:S(man_f(),\n",
    "              VP(V(\"love\"),\n",
    "                woman_f().pro())))"
   ]
  },
  {
   "cell_type": "markdown",
   "metadata": {},
   "source": []
  },
  {
   "attachments": {},
   "cell_type": "markdown",
   "metadata": {},
   "source": [
    "## Dependency creation\n",
    "To realize sentences, it is also possible to use a notation inspired by the [Dependency Grammar](https://en.wikipedia.org/wiki/Dependency_grammar) formalism. \n",
    "\n",
    "A dependency is created with a function giving the name of the relation: `root`, `subj` (subject), `det` (determiner), `comp` (complement), `mod` (modifier). Their first parameter is a `Terminal` which is the head of the dependency. The other parameters, if any, are dependencies associated with the head.\n",
    "\n",
    "Rather than combining phrases to build a sentence, as shown above, the structure is built by calls to functions corresponding to names of relations determining the role of this dependency in the sentence. **pyrealb** uses the information about the roles perform agreement between words of the sentence. \n",
    "\n",
    "In the following example, the plural on the subject affects the determiner and the verb."
   ]
  },
  {
   "cell_type": "code",
   "execution_count": 40,
   "metadata": {},
   "outputs": [
    {
     "data": {
      "text/plain": [
       "'Cats eat the white mouse. '"
      ]
     },
     "execution_count": 40,
     "metadata": {},
     "output_type": "execute_result"
    }
   ],
   "source": [
    "show(lambda:root(V(\"eat\").t(\"p\"),\n",
    "                 subj(N(\"cat\").n(\"p\"),\n",
    "                      det(D(\"a\"))),\n",
    "                 comp(N(\"mouse\"),\n",
    "                      det(D(\"the\")),\n",
    "                      mod(A(\"white\")))))"
   ]
  },
  {
   "attachments": {},
   "cell_type": "markdown",
   "metadata": {},
   "source": [
    "Coordinated dependencies are build with the coord function that has a conjunction as head and, as dependents, relations that must all be of the same type. For example:"
   ]
  },
  {
   "cell_type": "code",
   "execution_count": 49,
   "metadata": {},
   "outputs": [
    {
     "name": "stdout",
     "output_type": "stream",
     "text": [
      "The boy and the girl eat vegetable soup, pork or chicken. \n",
      "Vegetable soup, pork or chicken is eaten by the boy and the girl. \n"
     ]
    }
   ],
   "source": [
    "s1_f = lambda:root(V(\"eat\"),\n",
    "                   coord(C(\"and\"),\n",
    "                         subj(N(\"boy\"),det(D(\"the\"))),\n",
    "                         subj(N(\"girl\"),det(D(\"the\")))),\n",
    "                   coord(C(\"or\"),\n",
    "                         comp(N(\"soup\"),\n",
    "                              mod(N(\"vegetable\")).pos(\"pre\")),                \n",
    "                         comp(N(\"pork\").n(\"s\")),\n",
    "                         comp(N(\"chicken\"))))\n",
    "print(show(s1_f),\n",
    "      show(s1_f,{\"pas\":True}),\n",
    "      sep=\"\\n\")"
   ]
  },
  {
   "attachments": {},
   "cell_type": "markdown",
   "metadata": {},
   "source": [
    "**pyrealb** determines the word ordering in a sentence: `det` and `subj` appear before thee head, while `comp` and `mod` come after. This default ordering can be changed by adding the `.pos(..)` option with either `\"pre\"` or `\"post\"` like in the preceding example when it is preferable to put the modifier to `soup` before. When there is a tie in ordering, the realizer uses the order of the specification."
   ]
  },
  {
   "attachments": {},
   "cell_type": "markdown",
   "metadata": {},
   "source": [
    "## Conclusion\n",
    "\n",
    "These expressions have illustrated some of the capabilities of **pyrealb** for realizing English sentences. Most agreements are performed automatically; elision is also taken care of. Once the original affirmative sentence structure is set up, many variations can be obtained by means of options.\n",
    "\n",
    "Other [demonstrations](https://github.com/lapalme/pyrealb/tree/main/demos) are available.\n",
    "\n",
    "[Guy Lapalme](mailto:lapalme@iro.umontreal.ca)"
   ]
  }
 ],
 "metadata": {
  "kernelspec": {
   "display_name": "venv",
   "language": "python",
   "name": "python3"
  },
  "language_info": {
   "codemirror_mode": {
    "name": "ipython",
    "version": 3
   },
   "file_extension": ".py",
   "mimetype": "text/x-python",
   "name": "python",
   "nbconvert_exporter": "python",
   "pygments_lexer": "ipython3",
   "version": "3.9.13"
  },
  "orig_nbformat": 4,
  "vscode": {
   "interpreter": {
    "hash": "6e67b6aeadde66d5ca52686905ccfb75449b7be33eaca437f591eb4c7acc9558"
   }
  }
 },
 "nbformat": 4,
 "nbformat_minor": 2
}
